{
 "cells": [
  {
   "cell_type": "markdown",
   "id": "9168d654-e9d8-463e-a8be-8d45fcf28eb4",
   "metadata": {},
   "source": [
    "### Question 1\n",
    "Find the range of values for each of the following data types:\n",
    "* unit8\n",
    "* int8\n",
    "* uint32\n",
    "* int32"
   ]
  },
  {
   "cell_type": "markdown",
   "id": "b9acb804-7ce1-4dbc-87f1-e14dfdd299be",
   "metadata": {},
   "source": [
    "1. unit8 = [0,255]\n",
    "2. int8 = [-128,127]\n",
    "3. uint32 = [0,4294967295]\n",
    "4. int32 = [-2147483648,2147483647]"
   ]
  },
  {
   "cell_type": "markdown",
   "id": "625b030b-5527-48ba-aa64-e9bf947fac10",
   "metadata": {},
   "source": [
    "### Question 2"
   ]
  },
  {
   "cell_type": "markdown",
   "id": "456dc036-300d-40c7-8114-8f955ec4e105",
   "metadata": {},
   "source": [
    "Try to write a simple custom function to determine whether a given integer is odd or even number."
   ]
  },
  {
   "cell_type": "code",
   "execution_count": 15,
   "id": "29c1d573-a96b-467e-807a-27304f714316",
   "metadata": {},
   "outputs": [
    {
     "name": "stdout",
     "output_type": "stream",
     "text": [
      "1 is an odd integer\n",
      "2 is an even integer\n",
      "0 is not an integer\n"
     ]
    }
   ],
   "source": [
    "def odd_or_even(num):\n",
    "    if num % 2 == 0 and num != 0:\n",
    "        print(num, \"is an even integer\")\n",
    "    elif num % 2 == 1:\n",
    "        print(num, \"is an odd integer\")\n",
    "    else:\n",
    "        print(num, \"is not an integer\")\n",
    "\n",
    "odd_or_even(1) \n",
    "odd_or_even(2)\n",
    "odd_or_even(0)"
   ]
  },
  {
   "cell_type": "markdown",
   "id": "c32cb4da-0370-4607-826f-a01ff2735a51",
   "metadata": {},
   "source": [
    "### Question 3\n",
    "Write a simple example code to show that Numpy is more efficient in numerical computation of large arrays of data than equivalent Python list."
   ]
  },
  {
   "cell_type": "code",
   "execution_count": 42,
   "id": "0dd29269-e54e-4ca2-b5a9-c8a81a01f9b7",
   "metadata": {},
   "outputs": [
    {
     "name": "stdout",
     "output_type": "stream",
     "text": [
      "The Elapsed time for Numpy Array is 0.0083\n",
      "The Elapsed time for Python list is 0.0327\n"
     ]
    }
   ],
   "source": [
    "import numpy as np\n",
    "import time\n",
    "\n",
    "# Size of array amd list\n",
    "size = 1000000\n",
    "\n",
    "#Create two numpy array\n",
    "array1 = np.arange(size)\n",
    "array2 = np.arange(size)\n",
    "\n",
    "#Create two python list\n",
    "list1 =list(range(size))\n",
    "list2 =list(range(size))\n",
    "\n",
    "#measure time for list\n",
    "startTime = time.time()\n",
    "numpyTime = numpy_array1 + numpy_array2\n",
    "endTime = time.time()\n",
    "numpy_time = endTime - startTime\n",
    "\n",
    "#measure time for python list\n",
    "startTime = time.time()\n",
    "listTime = python_list1 + python_list2\n",
    "endTime = time.time()\n",
    "list_time = endTime - startTime\n",
    "\n",
    "print(f\"The Elapsed time for Numpy Array is {numpy_time:.4f}\")\n",
    "print(f\"The Elapsed time for Python list is {list_time:.4f}\")"
   ]
  },
  {
   "cell_type": "markdown",
   "id": "b5bac484-d558-473a-bfa5-c36ba1ce535d",
   "metadata": {},
   "source": [
    "### Question 4\n",
    "Run the following codes:\n",
    "```python\n",
    "    # create a 1D array\n",
    "    my_arr = np.arange(10)\n",
    "    print(\"Initial my_arr: \", my_arr)\n",
    "    arr_slice = my_arr\n",
    "    print(\"Initial arr_slice: \", arr_slice)\n",
    "\n",
    "    # change the first element of arr_slice\n",
    "    arr_slice[0] = 55\n",
    "\n",
    "    print(\"my_arr: \", my_arr)\n",
    "    print(\"arr_slice: \", arr_slice)\n",
    "```\n",
    "What do you notice? Propose a way to reassign `arr_slice` with new value **without modifying** `my_arr`."
   ]
  },
  {
   "cell_type": "code",
   "execution_count": 48,
   "id": "8f741187-bd6c-47cc-8008-4798f3367803",
   "metadata": {},
   "outputs": [
    {
     "name": "stdout",
     "output_type": "stream",
     "text": [
      "Initial my_arr:  [0 1 2 3 4 5 6 7 8 9]\n",
      "Initial arr_slice:  [0 1 2 3 4 5 6 7 8 9]\n",
      "my_arr:  [55  1  2  3  4  5  6  7  8  9]\n",
      "arr_slice:  [55  1  2  3  4  5  6  7  8  9]\n",
      "\n",
      "Initial arr_slice2: [55  1  2  3  4  5  6  7  8  9]\n",
      "my_arr:  [55  1  2  3  4  5  6  7  8  9]\n",
      "arr_slice2:  [5 1 2 3 4 5 6 7 8 9]\n"
     ]
    }
   ],
   "source": [
    "# create a 1D array\n",
    "my_arr = np.arange(10)\n",
    "print(\"Initial my_arr: \", my_arr)\n",
    "arr_slice = my_arr\n",
    "print(\"Initial arr_slice: \", arr_slice)\n",
    "\n",
    "# change the first element of arr_slice\n",
    "arr_slice[0] = 55\n",
    "\n",
    "print(\"my_arr: \", my_arr)\n",
    "print(\"arr_slice: \", arr_slice)\n",
    "\n",
    "\n",
    "\n",
    "# solution\n",
    "print(\"\")\n",
    "arr_slice2 = np.copy(my_arr)\n",
    "print(\"Initial arr_slice2:\", arr_slice2)\n",
    "\n",
    "#change the first element of arr_slice2\n",
    "arr_slice2[0] = 5\n",
    "\n",
    "print(\"my_arr: \", my_arr)\n",
    "print(\"arr_slice2: \", arr_slice2)"
   ]
  },
  {
   "cell_type": "markdown",
   "id": "80e52102-aa51-4019-b63f-6b5abf0ea0ae",
   "metadata": {},
   "source": [
    "### Question 5\n",
    "Create an image as shown as the following with the help of Numpy and matplotlib modules. You can arbitrarily set the dimension of the image and white circular spot at the middle."
   ]
  },
  {
   "cell_type": "code",
   "execution_count": 70,
   "id": "298f9858-ecf4-493e-8054-d27c8f29c3b2",
   "metadata": {},
   "outputs": [
    {
     "data": {
      "image/png": "[encoded data removed]",
      "text/plain": [
       "<Figure size 640x480 with 1 Axes>"
      ]
     },
     "metadata": {},
     "output_type": "display_data"
    }
   ],
   "source": [
    "import matplotlib.pyplot as plt\n",
    "import cv2\n",
    "\n",
    "#Draw black background\n",
    "gray = np.zeros((200, 200), dtype=np.uint8)\n",
    "\n",
    "# Draw a white circle in the middle\n",
    "center_coordinates = (100, 100)  # Center of the image\n",
    "radius = 25  # Radius of the circle\n",
    "color = 255  # White color in grayscale\n",
    "thickness = -1  # Fill the circle\n",
    "cv2.circle(gray, center_coordinates, radius, color, thickness)\n",
    "\n",
    "plt.imshow(gray, cmap = plt.cm.gray)\n",
    "plt.title(\"White Spot\")\n",
    "plt.xticks([]), plt.yticks([])\n",
    "plt.show()"
   ]
  },
  {
   "cell_type": "code",
   "execution_count": null,
   "id": "224ed9c4-1a75-43e2-b8ab-f699396c1836",
   "metadata": {},
   "outputs": [],
   "source": []
  }
 ],
 "metadata": {
  "kernelspec": {
   "display_name": "Python 3 (ipykernel)",
   "language": "python",
   "name": "python3"
  },
  "language_info": {
   "codemirror_mode": {
    "name": "ipython",
    "version": 3
   },
   "file_extension": ".py",
   "mimetype": "text/x-python",
   "name": "python",
   "nbconvert_exporter": "python",
   "pygments_lexer": "ipython3",
   "version": "3.12.4"
  }
 },
 "nbformat": 4,
 "nbformat_minor": 5
}
